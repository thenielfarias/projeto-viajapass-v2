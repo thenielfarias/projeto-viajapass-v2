{
 "cells": [
  {
   "cell_type": "code",
   "execution_count": 13,
   "id": "53d2d485-dbf1-49d2-abf0-f0dd6d75a9b5",
   "metadata": {},
   "outputs": [
    {
     "data": {
      "text/plain": [
       "True"
      ]
     },
     "execution_count": 13,
     "metadata": {},
     "output_type": "execute_result"
    }
   ],
   "source": [
    "import os\n",
    "from dotenv import load_dotenv\n",
    "import psycopg2\n",
    "load_dotenv('C:/Users/dantf/Documents/projeto-viajapass/config.env')"
   ]
  },
  {
   "cell_type": "code",
   "execution_count": 9,
   "id": "02cfa277-f5bd-448e-8372-ee9dcc0dd5bf",
   "metadata": {},
   "outputs": [],
   "source": [
    "def get_pdf_from_db(telefone):\n",
    "    conn = psycopg2.connect(\n",
    "        host=\"localhost\",\n",
    "        database=\"viajapass\",\n",
    "        user=os.getenv('DB_USER'),\n",
    "        password=os.getenv('DB_PASSWORD'))\n",
    "\n",
    "    try:\n",
    "        with conn.cursor() as cursor:\n",
    "            cursor.execute(\"SELECT content FROM pdfs WHERE telefone = %s\", (telefone,))\n",
    "            pdf_content = cursor.fetchone()\n",
    "            if pdf_content is not None:\n",
    "                return pdf_content[0]\n",
    "            else:\n",
    "                return None\n",
    "    except Exception as e:\n",
    "        print(f\"Erro ao recuperar PDF do banco de dados: {e}\")\n",
    "    finally:\n",
    "        conn.close()\n",
    "        "
   ]
  },
  {
   "cell_type": "code",
   "execution_count": 11,
   "id": "4cf93840-a84d-4a13-9354-4bc8ce187582",
   "metadata": {},
   "outputs": [
    {
     "name": "stdout",
     "output_type": "stream",
     "text": [
      "PDF salvo com sucesso em: C:\\Users\\dantf\\Downloads\\48998657785.pdf\n"
     ]
    }
   ],
   "source": [
    "def save_pdf_to_file(pdf_content, telefone):\n",
    "    if pdf_content is not None:\n",
    "        download_path = os.path.join(os.path.expanduser('~'), 'Downloads', f'{telefone}.pdf')\n",
    "\n",
    "        with open(download_path, 'wb') as file:\n",
    "            file.write(pdf_content)\n",
    "        print(f\"PDF salvo com sucesso em: {download_path}\")\n",
    "    else:\n",
    "        print(\"Nenhum conteúdo de PDF encontrado para o telefone fornecido.\")\n",
    "\n",
    "telefone = '48998657785'\n",
    "pdf_content = get_pdf_from_db(telefone)\n",
    "save_pdf_to_file(pdf_content, telefone)\n"
   ]
  }
 ],
 "metadata": {
  "kernelspec": {
   "display_name": "Python 3 (ipykernel)",
   "language": "python",
   "name": "python3"
  },
  "language_info": {
   "codemirror_mode": {
    "name": "ipython",
    "version": 3
   },
   "file_extension": ".py",
   "mimetype": "text/x-python",
   "name": "python",
   "nbconvert_exporter": "python",
   "pygments_lexer": "ipython3",
   "version": "3.12.1"
  }
 },
 "nbformat": 4,
 "nbformat_minor": 5
}
